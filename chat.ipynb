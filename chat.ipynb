{
 "cells": [
  {
   "cell_type": "code",
   "execution_count": 4,
   "metadata": {},
   "outputs": [],
   "source": [
    "import os\n",
    "from langchain.chains import RetrievalQA\n",
    "from langchain.vectorstores import FAISS\n",
    "from langchain.embeddings.openai import OpenAIEmbeddings\n",
    "from langchain.chat_models import ChatOpenAI\n",
    "\n",
    "llm = ChatOpenAI(model='gpt-3.5-turbo', openai_api_key=os.environ['OPENAI_API_KEY'])\n",
    "embeddings = OpenAIEmbeddings(disallowed_special=(), openai_api_key=os.environ['OPENAI_API_KEY'])\n",
    "docsearch = FAISS.load_local(\"faiss_index\", embeddings)\n",
    "\n",
    "qa = RetrievalQA.from_chain_type(llm=llm, chain_type=\"stuff\", retriever=docsearch.as_retriever())\n"
   ]
  },
  {
   "cell_type": "code",
   "execution_count": 5,
   "metadata": {},
   "outputs": [
    {
     "name": "stdout",
     "output_type": "stream",
     "text": [
      "The main features of Puppeteer are:\n",
      "\n",
      "1. **Automated testing**: Puppeteer provides a high-level API to control headless Chrome or any other Chrome DevTools Protocol-based browser. It can be used for automated testing of web applications.\n",
      "\n",
      "2. **Web scraping**: Puppeteer can be used to scrape data from websites that are rendered using JavaScript. It can crawl web pages and extract data from them.\n",
      "\n",
      "3. **PDF generation**: Puppeteer can be used to generate PDF files from web pages with ease. It provides a simple API to configure the page layout and other settings.\n",
      "\n",
      "4. **Performance monitoring**: Puppeteer can be used to monitor the performance of web pages. It provides a set of APIs to measure various performance metrics such as page load time, resource load time, etc.\n",
      "\n",
      "5. **Debugging**: Puppeteer can be used to debug web pages. It provides a simple API to interact with the Chrome DevTools Protocol and inspect the DOM and CSS of a web page.\n"
     ]
    }
   ],
   "source": [
    "query = \"What are the main features of puppeteer?\"\n",
    "output = qa.run(query)\n",
    "print(output)"
   ]
  },
  {
   "cell_type": "code",
   "execution_count": 6,
   "metadata": {},
   "outputs": [
    {
     "name": "stdout",
     "output_type": "stream",
     "text": [
      "Here's a script that uses Puppeteer to scrape the pages of www.chess.com:\n",
      "\n",
      "```js\n",
      "const puppeteer = require('puppeteer');\n",
      "\n",
      "(async () => {\n",
      "  const browser = await puppeteer.launch();\n",
      "  const page = await browser.newPage();\n",
      "\n",
      "  await page.goto('https://www.chess.com/play/computer');\n",
      "  // Do something with the page here, such as scraping data or taking a screenshot\n",
      "  // ...\n",
      "\n",
      "  await browser.close();\n",
      "})();\n",
      "```\n",
      "\n",
      "This script opens a new browser window using Puppeteer, navigates to the chess.com computer game site, and then closes the browser. You can add additional code between the `page.goto()` and `browser.close()` lines to interact with the page, such as scraping data or taking a screenshot.\n"
     ]
    }
   ],
   "source": [
    "query = \"Write me a script that uses puppeteer to scrape the pages of www.chess.com?\"\n",
    "output = qa.run(query)\n",
    "print(output)"
   ]
  }
 ],
 "metadata": {
  "kernelspec": {
   "display_name": "Python 3",
   "language": "python",
   "name": "python3"
  },
  "language_info": {
   "codemirror_mode": {
    "name": "ipython",
    "version": 3
   },
   "file_extension": ".py",
   "mimetype": "text/x-python",
   "name": "python",
   "nbconvert_exporter": "python",
   "pygments_lexer": "ipython3",
   "version": "3.11.2"
  },
  "orig_nbformat": 4
 },
 "nbformat": 4,
 "nbformat_minor": 2
}
